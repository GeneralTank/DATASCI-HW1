{
 "cells": [
  {
   "cell_type": "code",
   "execution_count": 1,
   "metadata": {},
   "outputs": [],
   "source": [
    "#Reference used: https://towardsdatascience.com/scraping-1000s-of-news-articles-using-10-simple-steps-d57636a49755\n",
    "\n",
    "import urllib.request,sys,time\n",
    "from bs4 import BeautifulSoup\n",
    "import requests\n",
    "import pandas as pd"
   ]
  },
  {
   "cell_type": "code",
   "execution_count": 2,
   "metadata": {},
   "outputs": [],
   "source": [
    "pagesToGet= 1\n",
    "\n",
    "upperframe=[]"
   ]
  },
  {
   "cell_type": "code",
   "execution_count": 34,
   "metadata": {},
   "outputs": [
    {
     "name": "stdout",
     "output_type": "stream",
     "text": [
      "processing page : 1\n",
      "http://balita.net.ph/category/balita-main/page/1\n",
      "10\n",
      "                                               Title  \\\n",
      "0  Asian community galit, nagimbal sa Atlanta spa...   \n",
      "1                    DepEd main office, isinara muna   \n",
      "2             COVID posibleng maging ‘seasonal’ — UN   \n",
      "3  7,000 health workers dumanas ng sides effects ...   \n",
      "4       ’Unli-data’ kapalit ng West Philippine Sea?’   \n",
      "5  Metro Manila nakararanas ng ‘serious surge’ ng...   \n",
      "6  Ayuda sa magsasaka at mangingisda, inihirit sa...   \n",
      "7      Kamara, nag-lockdown; 29 staff Covid positive   \n",
      "8        NPA lider sa Region 2, patay sa engkuwentro   \n",
      "9       FDA nagbabala vs gamot sa hayop kontra Covid   \n",
      "\n",
      "                                         FullArticle            Date  \n",
      "0  Naghahaloang kalungkutan, galit at takot ang n...  March 19, 2021  \n",
      "1  Pansamantalang isasarado ang punong tanggapan ...  March 19, 2021  \n",
      "2  Lumilitaw na ang COVID-19 na maaaring maging i...  March 19, 2021  \n",
      "3  Kinumpirma ng Food and Drug Administration (FD...  March 19, 2021  \n",
      "4  Dapat mag-ingat ang gobyerno ng Pilipinas sa p...  March 19, 2021  \n",
      "5  Ang Metro Manila ay nakakaranas ngayon ng isan...  March 19, 2021  \n",
      "6  Nais ni opposition Senator Leila M. de Lima na...  March 19, 2021  \n",
      "7  Isinailalim sa pansamantalang lockdown ang Kam...  March 19, 2021  \n",
      "8  Nabunyag ang pagkamatay ng isang opisyal umano...  March 19, 2021  \n",
      "9  Nagbabala ang Food and Drug Administration (FD...  March 19, 2021  \n"
     ]
    }
   ],
   "source": [
    "import urllib.request,sys,time\n",
    "from bs4 import BeautifulSoup\n",
    "import requests\n",
    "import pandas as pd\n",
    "\n",
    "pagesToGet= 1\n",
    "\n",
    "upperframe=[]  \n",
    "for page in range(1,pagesToGet+1):\n",
    "    print('processing page :', page)\n",
    "    URL = 'http://balita.net.ph/category/balita-main/page/'+str(page)\n",
    "    print(URL)\n",
    "    \n",
    "    #an exception might be thrown, so the code should be in a try-except block\n",
    "    try:\n",
    "        #use the browser to get the url. This is suspicious command that might blow up.\n",
    "        page=requests.get(URL)                             # this might throw an exception if something goes wrong.\n",
    "    \n",
    "    except Exception as e:                                   # this describes what to do if an exception is thrown\n",
    "        error_type, error_obj, error_info = sys.exc_info()      # get the exception information\n",
    "        print ('ERROR FOR LINK:',URL)                          #print the link that cause the problem\n",
    "        print (error_type, 'Line:', error_info.tb_lineno)     #print error info and line that threw the exception\n",
    "        continue                                              #ignore this page. Abandon this and go back.\n",
    "    time.sleep(2)   \n",
    "    soup=BeautifulSoup(page.text,'html.parser')\n",
    "    frame=[]\n",
    "    links=soup.find_all('div',attrs={'class':'archiveposts'})\n",
    "    print(len(links))\n",
    "    filename=\"NEWS.csv\"\n",
    "    f=open(filename,\"w\", encoding = 'utf-8')\n",
    "    headers=\"Date, Title, Full Article, Author\\n\"\n",
    "    f.write(headers)\n",
    "    \n",
    "    for j in links:\n",
    "        Title = j.find(\"h2\",attrs={'class':'archiveTitle'}).text.strip()\n",
    "        Date = j.find(\"span\",attrs={'class':'meta_date'}).text.strip()\n",
    "        FullArticle = j.find(\"p\").text.strip()\n",
    "        #Author = j.find('p', attrs={'class':'postmeta'}).find('meta_permalink').text.strip()\n",
    "        frame.append((Title,FullArticle,Date)) #,Author)\n",
    "        f.write(Title.replace(\",\",\"^\")+\",\"+FullArticle.replace(\",\",\"^\")+\",\"+Date.replace(\",\",\"^\")) #+\",\"+Date.replace(\",\",\"^\")\"+\",\"+Author.replace(\",\",\"^\")\n",
    "    upperframe.extend(frame)\n",
    "f.close()\n",
    "data=pd.DataFrame(upperframe, columns=['Title','FullArticle','Date']) #,'FullArticle','Author'\n",
    "print(data)"
   ]
  },
  {
   "cell_type": "code",
   "execution_count": null,
   "metadata": {},
   "outputs": [],
   "source": [
    "<div id=\"post-381600\" class=\"archiveposts post-381600 post type-post status-publish format-standard has-post-thumbnail hentry category-daigdig\">\n",
    "<a href=\"http://balita.net.ph/2021/03/12/egypt-sunog-sa-pabrika-ng-damit-20-patay/\" rel=\"bookmark\"><img src=\"http://balita.net.ph/wp-content/themes/newspro/timthumb.php?src=http%3A%2F%2Fbalita.net.ph%2Fwp-content%2Fuploads%2F2021%2F03%2FCairo-Egypt.jpg&amp;q=90&amp;w=280&amp;h=170&amp;zc=1\" class=\"alignleft\" alt=\"Egypt: Sunog sa pabrika ng damit, 20 patay\" title=\"Egypt: Sunog sa pabrika ng damit, 20 patay\"></a>\n",
    "<h2 class=\"archiveTitle\">\n",
    "<a href=\"http://balita.net.ph/2021/03/12/egypt-sunog-sa-pabrika-ng-damit-20-patay/\" rel=\"bookmark\" title=\"Permalink to Egypt: Sunog sa pabrika ng damit, 20 patay\">Egypt: Sunog sa pabrika ng damit, 20 patay</a>\n",
    "</h2>\n",
    "<p>Hindi bababa sa 20 katao ang napatay at 24 iba pa ang nasugatan nitong Huwebes sa sunog sa isang pabrika ng damit sa labas ng kabisera ng Egypt.</p>\n",
    "<p class=\"postmeta\"><span class=\"meta_date\">March 12, 2021</span><span class=\"meta_comment\"><a href=\"http://balita.net.ph/2021/03/12/egypt-sunog-sa-pabrika-ng-damit-20-patay/#disqus_thread\" data-disqus-identifier=\"381600 http://balita.net.ph/?p=381600\">0 Comments</a></span><span class=\"meta_permalink\"><a href=\"http://balita.net.ph/2021/03/12/egypt-sunog-sa-pabrika-ng-damit-20-patay/\" title=\"Permalink to Egypt: Sunog sa pabrika ng damit, 20 patay\" rel=\"bookmark\">Read More</a></span></p>\n",
    "</div>"
   ]
  }
 ],
 "metadata": {
  "kernelspec": {
   "display_name": "Python 3",
   "language": "python",
   "name": "python3"
  },
  "language_info": {
   "codemirror_mode": {
    "name": "ipython",
    "version": 3
   },
   "file_extension": ".py",
   "mimetype": "text/x-python",
   "name": "python",
   "nbconvert_exporter": "python",
   "pygments_lexer": "ipython3",
   "version": "3.7.3"
  }
 },
 "nbformat": 4,
 "nbformat_minor": 2
}
